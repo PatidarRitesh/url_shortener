{
 "cells": [
  {
   "cell_type": "code",
   "execution_count": 4,
   "metadata": {},
   "outputs": [
    {
     "name": "stdout",
     "output_type": "stream",
     "text": [
      "Shortened URL: http://127.0.0.1:8000/b3f574\n",
      "Testing the redirection...\n",
      "Redirected to: https://patidarritesh.github.io/profile-portfolio/\n",
      "Redirection history:\n",
      "307 -> http://127.0.0.1:8000/b3f574\n"
     ]
    }
   ],
   "source": [
    "import requests\n",
    "\n",
    "BASE_URL = \"http://127.0.0.1:8000\"  # URL of your local FastAPI server\n",
    "\n",
    "# Function to shorten the URL\n",
    "def shorten_url(long_url):\n",
    "    url = f\"{BASE_URL}/shorten\"\n",
    "    payload = {\"long_url\": long_url}\n",
    "    \n",
    "    try:\n",
    "        response = requests.post(url, json=payload)\n",
    "        response.raise_for_status()  # Raise an error for bad responses (4xx, 5xx)\n",
    "        result = response.json()\n",
    "        \n",
    "        # Remove unwanted quotes if present\n",
    "        short_url = result['short_url'].strip('\"')\n",
    "\n",
    "        print(f\"Shortened URL: {short_url}\")\n",
    "        return short_url\n",
    "    except requests.exceptions.RequestException as e:\n",
    "        print(f\"Error: {e}\")\n",
    "        return None\n",
    "\n",
    "# Function to access the short URL (testing redirection)\n",
    "def test_redirect(short_url):\n",
    "    try:\n",
    "        response = requests.get(short_url, allow_redirects=True)  # Allow redirects\n",
    "        response.raise_for_status()  # Raise an error for bad responses\n",
    "        print(f\"Redirected to: {response.url}\")\n",
    "        \n",
    "        # Print redirect chain (if any)\n",
    "        if response.history:\n",
    "            print(\"Redirection history:\")\n",
    "            for r in response.history:\n",
    "                print(f\"{r.status_code} -> {r.url}\")\n",
    "    except requests.exceptions.RequestException as e:\n",
    "        print(f\"Error: {e}\")\n",
    "\n",
    "if __name__ == \"__main__\":\n",
    "    # Step 1: Shorten a long URL\n",
    "    long_url = \"https://patidarritesh.github.io/profile-portfolio/\"\n",
    "    short_url = shorten_url(long_url)\n",
    "\n",
    "    # Step 2: If the short URL was successfully generated, test the redirection\n",
    "    if short_url:\n",
    "        print(\"Testing the redirection...\")\n",
    "        test_redirect(short_url)\n"
   ]
  }
 ],
 "metadata": {
  "kernelspec": {
   "display_name": "env",
   "language": "python",
   "name": "python3"
  },
  "language_info": {
   "codemirror_mode": {
    "name": "ipython",
    "version": 3
   },
   "file_extension": ".py",
   "mimetype": "text/x-python",
   "name": "python",
   "nbconvert_exporter": "python",
   "pygments_lexer": "ipython3",
   "version": "3.11.1"
  }
 },
 "nbformat": 4,
 "nbformat_minor": 2
}
